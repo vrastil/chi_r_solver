{
 "cells": [
  {
   "cell_type": "code",
   "execution_count": 69,
   "metadata": {},
   "outputs": [],
   "source": [
    "import os\n",
    "import sys\n",
    "\n",
    "import numpy as np\n",
    "import matplotlib.pyplot as plt"
   ]
  },
  {
   "cell_type": "code",
   "execution_count": 88,
   "metadata": {},
   "outputs": [
    {
     "name": "stdout",
     "output_type": "stream",
     "text": [
      "The autoreload extension is already loaded. To reload it, use:\n",
      "  %reload_ext autoreload\n"
     ]
    }
   ],
   "source": [
    "%load_ext autoreload\n",
    "%autoreload 2\n",
    "import plot_chameleon as plt_chi"
   ]
  },
  {
   "cell_type": "code",
   "execution_count": 108,
   "metadata": {},
   "outputs": [],
   "source": [
    "kwargs_dflt = {\n",
    "    \"err\": 1E-8,\n",
    "    \"n\": 0.5,\n",
    "    \"print_par\" : 1,\n",
    "    \"out_dir\" : \"../output/\"\n",
    "}\n",
    "sim = plt_chi.Simulation(\"../build/main.a\", **kwargs_dflt)"
   ]
  },
  {
   "cell_type": "code",
   "execution_count": 109,
   "metadata": {},
   "outputs": [],
   "source": [
    "kwargs_sim = {\n",
    "    \"mod\" : 1,\n",
    "    \"Omega_m\" : 1,\n",
    "    \"c\" : 16,\n",
    "    \"M200_sun\" : 10,\n",
    "    \"Ys\" : 0,\n",
    "    \"R_eq\" : 10\n",
    "}\n",
    "\n",
    "sim.set_kwargs(**kwargs_sim)"
   ]
  },
  {
   "cell_type": "code",
   "execution_count": null,
   "metadata": {},
   "outputs": [],
   "source": []
  },
  {
   "cell_type": "code",
   "execution_count": 110,
   "metadata": {},
   "outputs": [
    {
     "name": "stdout",
     "output_type": "stream",
     "text": [
      "Running command '../build/main.a --err=1e-08 --n=0.5 --print_par=1 --out_dir=../output/ --mod=1 --Omega_m=1 --c=16 --M200_sun=10 --Ys=0 --R_eq=10'\n",
      "[2020-07-14 02:07:07.608724] [0x00007fde163d8740] [warning] Cannot open config file 'input.cfg'. Using default and command lines values.\n",
      "[2020-07-14 02:07:07.608786] [0x00007fde163d8740] [debug]   Pot(0) = -83.4992\n",
      "[2020-07-14 02:07:07.608790] [0x00007fde163d8740] [debug]   Pot(R) = -57.8773\n",
      "[2020-07-14 02:07:07.608793] [0x00007fde163d8740] [debug]   Pot(R_eq) = -64.3043\n",
      "[2020-07-14 02:07:07.608796] [0x00007fde163d8740] [info]    Capacity: 171\n",
      "[2020-07-14 02:07:07.608838] [0x00007fde163d8740] [info]    Parameters given through command line options, through configuration file, or derived:\n",
      "\n",
      "Generic options:\n",
      "\tmod = 1\n",
      "Integration options:\n",
      "\terr = 1e-08\tstep / R_s = 1.53561\tr_max / R_s = 183273\n",
      "Spatial parameters:\n",
      "\tc = 16\tR / R_s = 15.3561\tR200 / R_s = 245.697\trho_c = 4.40959e+15\trho_0 = 4.76815e+09\tM200 / M_s = 10\tMs / M_s = 5.28531\tM200_sun = 10\n",
      "Chameleon parameters:\n",
      "\tn = 0.5\tbeta = 0.408248\tYs = 64.3043\tR_eq = 3.086e+20\tchi_B = 1.16924e-12\tm_inf = 1.7681e-24\n",
      "Output options:\n",
      "\tout dir../output/NFW//\n",
      "[2020-07-14 02:07:07.608840] [0x00007fde163d8740] [info]    Start solving the chameleon field for NFW.\n",
      "[2020-07-14 02:07:07.608842] [0x00007fde163d8740] [info]    Chameleon field in the screened regime. Getting <r2>...\n",
      "[2020-07-14 02:07:07.608845] [0x00007fde163d8740] [info]    Start shooting method with s1<0.651208> and mlt<0.5>\n",
      "[2020-07-14 02:07:07.610283] [0x00007fde163d8740] [info]    Start root-finder method with s1<0.325604> and s2<0.162802>\n",
      "[2020-07-14 02:07:07.618779] [0x00007fde163d8740] [info]    Get root with s1<0.289157>.\n",
      "[2020-07-14 02:07:07.618790] [0x00007fde163d8740] [info]    <r2> calculated as <1.37028e+20>. Filling analytical values from 0 to r2.\n",
      "[2020-07-14 02:07:07.618878] [0x00007fde163d8740] [info]    Starting integration from r<1.37028e+20> to 1/m_inf<5.6558e+23>.\n",
      "[2020-07-14 02:07:07.619393] [0x00007fde163d8740] [info]    Starting integration from r<5.80312e+23> to r_max<5.6558e+24>.\n",
      "[2020-07-14 02:07:07.619576] [0x00007fde163d8740] [debug]   Writing potential into file ../output/NFW//potential.dat\n",
      "[2020-07-14 02:07:07.620129] [0x00007fde163d8740] [debug]   Writing forces into file ../output/NFW//forces.dat\n",
      "\n"
     ]
    }
   ],
   "source": [
    "sim.run()"
   ]
  },
  {
   "cell_type": "code",
   "execution_count": null,
   "metadata": {},
   "outputs": [],
   "source": []
  },
  {
   "cell_type": "code",
   "execution_count": 37,
   "metadata": {},
   "outputs": [],
   "source": [
    "in_dir = \"../output/\""
   ]
  },
  {
   "cell_type": "code",
   "execution_count": 38,
   "metadata": {},
   "outputs": [],
   "source": [
    "run_dir = \"NFW\"\n",
    "pot_file = \"potential.dat\"\n",
    "for_file = \"forces.dat\""
   ]
  },
  {
   "cell_type": "code",
   "execution_count": 39,
   "metadata": {},
   "outputs": [],
   "source": [
    "cur_pot_file = os.path.join(in_dir, run_dir, pot_file)\n",
    "cur_for_file = os.path.join(in_dir, run_dir, for_file)"
   ]
  },
  {
   "cell_type": "code",
   "execution_count": 53,
   "metadata": {},
   "outputs": [
    {
     "data": {
      "image/png": "[encoded data removed]",
      "text/plain": [
       "<Figure size 576x360 with 1 Axes>"
      ]
     },
     "metadata": {
      "needs_background": "light"
     },
     "output_type": "display_data"
    }
   ],
   "source": [
    "data = np.loadtxt(cur_for_file).transpose()\n",
    "r, force = data\n",
    "\n",
    "fig = plt.figure(figsize=(8,5))\n",
    "ax = plt.gca()\n",
    "ax.plot(r, force, label=\"chi / Phi_N\")\n",
    "ax.set_yscale('log')\n",
    "ax.set_xscale('log')\n",
    "ax.set_xlim(xmax=10)\n",
    "plt.legend()\n",
    "plt.show()"
   ]
  },
  {
   "cell_type": "code",
   "execution_count": 52,
   "metadata": {},
   "outputs": [
    {
     "data": {
      "image/png": "[encoded data removed]",
      "text/plain": [
       "<Figure size 576x360 with 1 Axes>"
      ]
     },
     "metadata": {
      "needs_background": "light"
     },
     "output_type": "display_data"
    }
   ],
   "source": [
    "data = np.loadtxt(cur_pot_file).transpose()\n",
    "r, phi, chi = data\n",
    "\n",
    "fig = plt.figure(figsize=(8,5))\n",
    "ax = plt.gca()\n",
    "ax.plot(r, phi, label=\"Phi_N\")\n",
    "ax.plot(r, chi, label=\"Chi\")\n",
    "ax.set_yscale('log')\n",
    "ax.set_xscale('log')\n",
    "ax.set_xlim(xmax=10)\n",
    "plt.legend()\n",
    "plt.show()"
   ]
  },
  {
   "cell_type": "code",
   "execution_count": null,
   "metadata": {},
   "outputs": [],
   "source": []
  }
 ],
 "metadata": {
  "kernelspec": {
   "display_name": "Python 3",
   "language": "python",
   "name": "python3"
  },
  "language_info": {
   "codemirror_mode": {
    "name": "ipython",
    "version": 3
   },
   "file_extension": ".py",
   "mimetype": "text/x-python",
   "name": "python",
   "nbconvert_exporter": "python",
   "pygments_lexer": "ipython3",
   "version": "3.6.9"
  }
 },
 "nbformat": 4,
 "nbformat_minor": 4
}
